{
 "cells": [
  {
   "cell_type": "markdown",
   "metadata": {},
   "source": [
    "# Load all Lib"
   ]
  },
  {
   "cell_type": "code",
   "execution_count": 1,
   "metadata": {},
   "outputs": [],
   "source": [
    "import numpy as np\n",
    "import cv2\n",
    "import matplotlib.pyplot as plt\n",
    "import pandas as pd\n",
    "import warnings\n",
    "import os\n",
    "\n",
    "import torch.nn as nn\n",
    "import torch.optim as optim\n",
    "import torch\n",
    "import torch.nn.functional as functional"
   ]
  },
  {
   "cell_type": "code",
   "execution_count": 2,
   "metadata": {},
   "outputs": [],
   "source": [
    "# intrinsic matrix of the camera\n",
    "IntrinsicMatrix = np.array([[1.3533e3, 0, 1.1605e3], \n",
    "                            [0, 1.418e3, 529.8685], \n",
    "                            [0, 0, 1]])\n",
    "\n",
    "# camera height\n",
    "H = 7.0  \n",
    "# 4.5 m for the lower one. \n",
    "\n",
    "# angle of camera when it is stable\n",
    "incStab = 73 * np.pi / 180\n",
    "rollStab = 0 * np.pi / 180\n",
    "aziStab = 0  "
   ]
  },
  {
   "cell_type": "markdown",
   "metadata": {},
   "source": [
    "# Load the model"
   ]
  },
  {
   "cell_type": "code",
   "execution_count": 3,
   "metadata": {},
   "outputs": [
    {
     "data": {
      "text/plain": [
       "<All keys matched successfully>"
      ]
     },
     "execution_count": 3,
     "metadata": {},
     "output_type": "execute_result"
    }
   ],
   "source": [
    "import torch.nn as nn\n",
    "import torch.optim as optim\n",
    "import torch\n",
    "import torch.nn.functional as functional\n",
    "\n",
    "class double_conv(nn.Module):\n",
    "    \"\"\"(conv => BN => ReLU) * 2\"\"\"\n",
    "\n",
    "    def __init__(self, in_ch, out_ch):\n",
    "        super(double_conv, self).__init__()\n",
    "        self.conv = nn.Sequential(\n",
    "            nn.Conv2d(in_ch, out_ch, 3, padding=1),\n",
    "            nn.BatchNorm2d(out_ch),\n",
    "            nn.ReLU(inplace=True),\n",
    "            nn.Conv2d(out_ch, out_ch, 3, padding=1),\n",
    "            nn.BatchNorm2d(out_ch),\n",
    "            nn.ReLU(inplace=True),\n",
    "        )\n",
    "\n",
    "    def forward(self, x):\n",
    "        x = self.conv(x)\n",
    "        return x\n",
    "\n",
    "\n",
    "class inconv(nn.Module):\n",
    "    def __init__(self, in_ch, out_ch):\n",
    "        super(inconv, self).__init__()\n",
    "        self.conv = double_conv(in_ch, out_ch)\n",
    "\n",
    "    def forward(self, x):\n",
    "        x = self.conv(x)\n",
    "        return x\n",
    "\n",
    "\n",
    "class down(nn.Module):\n",
    "    def __init__(self, in_ch, out_ch):\n",
    "        super(down, self).__init__()\n",
    "        self.mpconv = nn.Sequential(nn.MaxPool2d(2), double_conv(in_ch, out_ch))\n",
    "\n",
    "    def forward(self, x):\n",
    "        x = self.mpconv(x)\n",
    "        return x\n",
    "\n",
    "\n",
    "class up(nn.Module):\n",
    "    def __init__(self, in_ch, out_ch, bilinear=True):\n",
    "        super(up, self).__init__()\n",
    "\n",
    "        if bilinear:\n",
    "            self.up = nn.Upsample(scale_factor=2, mode=\"bilinear\", align_corners=True)\n",
    "        else:\n",
    "            self.up = nn.ConvTranspose2d(in_ch // 2, in_ch // 2, 2, stride=2)\n",
    "\n",
    "        self.conv = double_conv(in_ch, out_ch)\n",
    "\n",
    "    def forward(self, x1, x2):\n",
    "        x1 = self.up(x1)\n",
    "\n",
    "        # input is CHW\n",
    "        diffY = x2.size()[2] - x1.size()[2]\n",
    "        diffX = x2.size()[3] - x1.size()[3]\n",
    "\n",
    "        x1 = functional.pad(x1, (diffX // 2, diffX - diffX // 2, diffY // 2, diffY - diffY // 2))\n",
    "        \n",
    "        x = torch.cat([x2, x1], dim=1)\n",
    "        return self.conv(x)\n",
    "\n",
    "\n",
    "class outconv(nn.Module):\n",
    "    def __init__(self, in_ch, out_ch):\n",
    "        super(outconv, self).__init__()\n",
    "        self.conv = nn.Conv2d(in_ch, out_ch, 1)\n",
    "\n",
    "    def forward(self, x):\n",
    "        x = self.conv(x)\n",
    "        return x\n",
    "\n",
    "\n",
    "class UNet(nn.Module):\n",
    "    def __init__(self, n_channels, n_classes):\n",
    "        super(UNet, self).__init__()\n",
    "        self.inc = inconv(n_channels, 64)\n",
    "        self.down1 = down(64, 128)\n",
    "        self.down2 = down(128, 256)\n",
    "        self.down3 = down(256, 512)\n",
    "        self.down4 = down(512, 512)\n",
    "        self.up1 = up(1024, 256, False)\n",
    "        self.up2 = up(512, 128, False)\n",
    "        self.up3 = up(256, 64, False)\n",
    "        self.up4 = up(128, 64, False)\n",
    "        self.outc = outconv(64, n_classes)\n",
    "\n",
    "    def forward(self, x):\n",
    "        x1 = self.inc(x)\n",
    "        x2 = self.down1(x1)\n",
    "        x3 = self.down2(x2)\n",
    "        x4 = self.down3(x3)\n",
    "        x5 = self.down4(x4)\n",
    "        x = self.up1(x5, x4)\n",
    "        x = self.up2(x, x3)\n",
    "        x = self.up3(x, x2)\n",
    "        x = self.up4(x, x1)\n",
    "        x = self.outc(x)\n",
    "        return torch.sigmoid(x)\n",
    "    \n",
    "    \n",
    "unet_model = UNet(n_channels=1, n_classes=1).float()\n",
    "unet_model.load_state_dict(torch.load(\"../model_cifar_200.pt\"))"
   ]
  },
  {
   "cell_type": "markdown",
   "metadata": {},
   "source": [
    "# Preprocessing"
   ]
  },
  {
   "cell_type": "markdown",
   "metadata": {},
   "source": [
    "## Horizon Detection"
   ]
  },
  {
   "cell_type": "code",
   "execution_count": 4,
   "metadata": {},
   "outputs": [],
   "source": [
    "import numpy as np\n",
    "import cv2\n",
    "\n",
    "def Image2World(u,v,H,roll,pitch,yaw,IntrinsicMatrix):\n",
    "    \"\"\"_summary_\n",
    "\n",
    "    Args:\n",
    "        u (int): location at the x axis in image coordinate\n",
    "        v (int): location at the y axis in image coordinate\n",
    "        H (float): camera height above mean water level\n",
    "        roll (float): change of the angle of camera around the y axis\n",
    "        pitch (float): change of the angle of camera around the x axis\n",
    "        yaw (float): change of the angle of cameraaround the z axis\n",
    "        IntrinsicMatrix (ndarray): intrinsic matrix of the camera\n",
    "\n",
    "    The definition is according to the paper:\n",
    "    Schwendeman, M., & Thomson, J. (2015). \n",
    "    A horizon-tracking method for shipboard video stabilization and rectification.\n",
    "    Journal of Atmospheric and Oceanic Technology, 32(1), 164-176.\n",
    "    Returns:\n",
    "        x (float): corresponding x location in real-world coordinate. Unit is m.\n",
    "        y (float): corresponding y location in real-world coordinate. Unit is m.\n",
    "        \n",
    "    \"\"\"\n",
    "    R_roll = np.array([[np.cos(roll), -np.sin(roll), 0],\n",
    "                       [np.sin(roll), np.cos(roll), 0], \n",
    "                       [0, 0, 1]])\n",
    "    R_pitch = np.array([[1, 0, 0], \n",
    "                        [0, -np.cos(pitch), -np.sin(pitch)], \n",
    "                        [0, np.sin(pitch), -np.cos(pitch)]])\n",
    "    R_yaw = np.array([[np.cos(yaw), 0, -np.sin(yaw)],\n",
    "                      [0, 1, 0], \n",
    "                      [np.sin(yaw), 0, np.cos(yaw)]])\n",
    "\n",
    "    R = R_yaw.dot(R_roll.dot(R_pitch))\n",
    "    # 矩阵求逆\n",
    "    UV0 = np.array([u, v])\n",
    "    one = np.ones(u.shape[0])\n",
    "    UV1 = np.r_[UV0, np.array([one])]\n",
    "    UV = np.r_[UV1, np.array([one])]\n",
    "\n",
    "    zero = np.zeros(R.shape[0])\n",
    "    r = np.c_[R, zero.T]\n",
    "    rr = np.r_[r, np.array([np.append(zero, 1)])]\n",
    "\n",
    "    K = np.c_[IntrinsicMatrix, zero.T]\n",
    "    KK = np.r_[K, np.array([np.append(zero, 1)])]\n",
    "\n",
    "    a = np.linalg.inv(KK.dot(rr)).dot(UV)\n",
    "\n",
    "    x = -np.divide(a[0, :], a[2, :]) * H\n",
    "    y = -np.divide(a[1, :], a[2, :]) * H\n",
    "\n",
    "    return (x, y)\n",
    "\n",
    "def Image2Image(u1,v1,roll1,pitch1,yaw1,roll2,pitch2,yaw2,IntrinsicMatrix):\n",
    "    \"\"\"_summary_\n",
    "\n",
    "    Args:\n",
    "        u1 (_type_): _description_\n",
    "        v1 (_type_): _description_\n",
    "        roll1 (_type_): _description_\n",
    "        pitch1 (_type_): _description_\n",
    "        yaw1 (_type_): _description_\n",
    "        roll2 (_type_): _description_\n",
    "        pitch2 (_type_): _description_\n",
    "        yaw2 (_type_): _description_\n",
    "        IntrinsicMatrix (_type_): _description_\n",
    "\n",
    "    Returns:\n",
    "        _type_: _description_\n",
    "    \"\"\"\n",
    "    R_roll1 = np.array([[np.cos(roll1), -np.sin(roll1), 0],\n",
    "                        [np.sin(roll1), np.cos(roll1), 0], \n",
    "                        [0, 0, 1]])\n",
    "    R_pitch1 = np.array([[1, 0, 0], \n",
    "                         [0, -np.cos(pitch1), -np.sin(pitch1)], \n",
    "                         [0, np.sin(pitch1), -np.cos(pitch1)]])\n",
    "    R_yaw1 = np.array([[np.cos(yaw1), 0, -np.sin(yaw1)],\n",
    "                       [0, 1, 0], \n",
    "                       [np.sin(yaw1), 0, np.cos(yaw1)]])\n",
    "    R1 = R_yaw1.dot(R_roll1.dot(R_pitch1))\n",
    "\n",
    "    R_roll2 = np.array([[np.cos(roll2), -np.sin(roll2), 0],\n",
    "                        [np.sin(roll2), np.cos(roll2), 0], \n",
    "                        [0, 0, 1]])\n",
    "    R_pitch2 = np.array([[1, 0, 0], \n",
    "                         [0, -np.cos(pitch2), -np.sin(pitch2)], \n",
    "                         [0, np.sin(pitch2), -np.cos(pitch2)]])\n",
    "    R_yaw2 = np.array([[np.cos(yaw2), 0, -np.sin(yaw2)],\n",
    "                       [0, 1, 0], \n",
    "                       [np.sin(yaw2), 0, np.cos(yaw2)]])\n",
    "    R2 = R_yaw2.dot(R_roll2.dot(R_pitch2))\n",
    "\n",
    "    UV0 = np.array([u1, v1])\n",
    "    one = np.ones(u1.shape[0])\n",
    "    UV = np.r_[UV0, np.array([one])]\n",
    "    UV1 = np.r_[UV, np.array([one])]\n",
    "\n",
    "    zero = np.zeros(R1.shape[0])\n",
    "    r1 = np.c_[R1, zero.T]\n",
    "    rr1 = np.r_[r1, np.array([np.append(zero, 1)])]\n",
    "\n",
    "    zero = np.zeros(R2.shape[0])\n",
    "    r2 = np.c_[R2, zero.T]\n",
    "    rr2 = np.r_[r2, np.array([np.append(zero, 1)])]\n",
    "\n",
    "    K = np.c_[IntrinsicMatrix, zero.T]\n",
    "    KK = np.r_[K, np.array([np.append(zero, 1)])]\n",
    "\n",
    "    UV2 = (KK.dot(rr2)).dot(np.linalg.inv(KK.dot(rr1)).dot(UV1))\n",
    "\n",
    "    u2 = np.divide(UV2[0, :], UV2[2, :])\n",
    "    v2 = np.divide(UV2[1, :], UV2[2, :])\n",
    "\n",
    "    return (u2, v2)\n",
    "\n",
    "def Angle2Line(inc,roll,IntrinsicMatrix):\n",
    "    \"\"\"_summary_\n",
    "\n",
    "    Args:\n",
    "        inc (_type_): _description_\n",
    "        roll (_type_): _description_\n",
    "        IntrinsicMatrix (_type_): _description_\n",
    "\n",
    "    Returns:\n",
    "        _type_: _description_\n",
    "    \"\"\"\n",
    "    fu = IntrinsicMatrix[0, 0]\n",
    "    fv = IntrinsicMatrix[1, 1]\n",
    "    cu = IntrinsicMatrix[0, 2]\n",
    "    cv = IntrinsicMatrix[1, 2]\n",
    "    theta = np.arctan(-fu / (fv * np.tan(roll)))\n",
    "    rho = ((fu * np.sin(roll) * np.cos(theta) - fv * np.cos(roll) *\n",
    "           np.sin(theta)) / np.tan(inc) \n",
    "           + cu * np.cos(theta) + cv * np.sin(theta))\n",
    "    return (theta, rho)\n",
    "\n",
    "\n",
    "def Line2Angle(theta,rho,IntrinsicMatrix):\n",
    "    \"\"\"_summary_\n",
    "\n",
    "    Args:\n",
    "        theta (_type_): _description_\n",
    "        rho (_type_): _description_\n",
    "        IntrinsicMatrix (_type_): _description_\n",
    "\n",
    "    Returns:\n",
    "        _type_: _description_\n",
    "    \"\"\"\n",
    "    fu = IntrinsicMatrix[0, 0]\n",
    "    fv = IntrinsicMatrix[1, 1]\n",
    "    cu = IntrinsicMatrix[0, 2]\n",
    "    cv = IntrinsicMatrix[1, 2]\n",
    "    roll = np.arctan(-fu / (fv * np.tan(theta)))\n",
    "    inc = np.arctan((fu * np.sin(roll) * np.cos(theta) \n",
    "                     - fv * np.cos(roll) * np.sin(theta)) / \n",
    "                    (rho - cu * np.cos(theta) - cv * np.sin(theta)))\n",
    "    if inc <= 0:\n",
    "        inc = np.pi + inc\n",
    "\n",
    "    return (inc, roll)\n",
    "\n",
    "\n",
    "\n",
    "def Horizon_tracking(img):\n",
    "    \"\"\"This function is used to track the horizon.\n",
    "\n",
    "    Args:\n",
    "        img (ndarray): input image\n",
    "\n",
    "    Returns:\n",
    "        horizonPixel: the location of pixels for horizon\n",
    "        rho: intercept of the line standing for horizon\n",
    "        theta: slope of the line standing for horizon\n",
    "    \"\"\"\n",
    "    # sharpen the image to make the horizon more clear\n",
    "    sharpen_kernel = np.array(\n",
    "        [[0, -1, 0], [-1, 5, -1], [0, -1, 0]], dtype=np.float32)\n",
    "    sharpen_image = cv2.filter2D(img, cv2.CV_32F, sharpen_kernel)\n",
    "    \n",
    "    # cv2.convertScaleAbs help separate foreground and background\n",
    "    sharpen_image = cv2.convertScaleAbs(sharpen_image)\n",
    "    gray = cv2.cvtColor(sharpen_image, cv2.COLOR_BGR2GRAY)\n",
    "    ret, thresh = cv2.threshold(\n",
    "        gray, 0, 255, cv2.THRESH_BINARY_INV + cv2.THRESH_OTSU)\n",
    "    \n",
    "    # dilate the gray image to get rid of the noise \n",
    "    kernel = cv2.getStructuringElement(cv2.MORPH_RECT, (3, 3))\n",
    "    closing = cv2.morphologyEx(thresh, cv2.MORPH_CLOSE, kernel)\n",
    "    \n",
    "    # substruct the images with different dilation degree to get the horizon\n",
    "    sure_bg = cv2.dilate(closing, kernel, iterations=50)\n",
    "    sure_fg = cv2.dilate(closing, kernel, iterations=49)\n",
    "    horizon = cv2.subtract(sure_bg, sure_fg)\n",
    "    \n",
    "    # use canny algorithm to track the contour profile again\n",
    "    dst = cv2.Canny(horizon, 100, 255, None, 3)\n",
    "    # use Hough algorithm to track the line\n",
    "    lines = cv2.HoughLines(dst, 0.8, np.pi / 180, 200)\n",
    "    \n",
    "    # draw the line standing for horizon \n",
    "    # TODO(Xin, 2022/6/25): Can make some improvement here\n",
    "    for rho, theta in lines[0]:\n",
    "        a = np.cos(theta)\n",
    "        b = np.sin(theta)\n",
    "        rho = rho + 50\n",
    "        x0 = a * rho\n",
    "        y0 = b * rho\n",
    "        x1 = int(x0 + 10000 * (-b))\n",
    "        y1 = int(y0 + 10000 * (a))\n",
    "        x2 = int(x0 - 10000 * (-b))\n",
    "        y2 = int(y0 - 10000 * (a))\n",
    "        blackboard = np.zeros([1080, 1920])\n",
    "        horizon_line = cv2.line(blackboard, (x1, y1), (x2, y2), 255, 1)\n",
    "    horizonPixel = np.argwhere(horizon_line == 255)\n",
    "    return (horizonPixel, rho, theta)\n",
    "\n",
    "def StabImage(img,inc1,roll1,azi1,inc2,roll2,azi2,IntrinsicMatrix):\n",
    "    \"\"\"_summary_\n",
    "\n",
    "    Args:\n",
    "        img (_type_): _description_\n",
    "        inc1 (_type_): _description_\n",
    "        roll1 (_type_): _description_\n",
    "        azi1 (_type_): _description_\n",
    "        inc2 (_type_): _description_\n",
    "        roll2 (_type_): _description_\n",
    "        azi2 (_type_): _description_\n",
    "        IntrinsicMatrix (_type_): _description_\n",
    "\n",
    "    Returns:\n",
    "        _type_: _description_\n",
    "    \"\"\"\n",
    "\n",
    "    R_roll1 = np.array([[np.cos(roll1), -np.sin(roll1), 0],\n",
    "                        [np.sin(roll1), np.cos(roll1), 0], [0, 0, 1]])\n",
    "    R_pitch1 = np.array([[1, 0, 0], \n",
    "         [0, -np.cos(inc1), -np.sin(inc1)], \n",
    "         [0, np.sin(inc1), -np.cos(inc1)]])\n",
    "    R_azi1 = np.array([[np.cos(azi1), 0, -np.sin(azi1)],\n",
    "                       [0, 1, 0], \n",
    "                       [np.sin(azi1), 0, np.cos(azi1)]])\n",
    "    R1 = R_azi1.dot(R_roll1.dot(R_pitch1))\n",
    "    R_roll2 = np.array([[np.cos(roll2), -np.sin(roll2), 0],\n",
    "                        [np.sin(roll2), np.cos(roll2), 0], \n",
    "                        [0, 0, 1]])\n",
    "    R_pitch2 = np.array([[1, 0, 0], \n",
    "                         [0, -np.cos(inc2), -np.sin(inc2)], \n",
    "                         [0, np.sin(inc2), -np.cos(inc2)]])\n",
    "    R_azi2 = np.array([[np.cos(azi2), 0, -np.sin(azi2)],\n",
    "                       [0, 1, 0], [np.sin(azi2), 0, np.cos(azi2)]])\n",
    "    R2 = R_azi2.dot(R_roll2.dot(R_pitch2))\n",
    "    R = IntrinsicMatrix.dot(R2).dot(np.linalg.inv(IntrinsicMatrix.dot(R1)))\n",
    "\n",
    "    stabFrame = cv2.warpPerspective(\n",
    "        img, R, (np.shape(img)[1], np.shape(img)[0]))\n",
    "\n",
    "    return (R, stabFrame)"
   ]
  },
  {
   "cell_type": "markdown",
   "metadata": {},
   "source": [
    "## Rectification"
   ]
  },
  {
   "cell_type": "code",
   "execution_count": 5,
   "metadata": {},
   "outputs": [],
   "source": [
    "def rectify(img,IntrinsicMatrix,H,incStab,\n",
    "            rollStab,aziStab,line,rho,theta,roi):\n",
    "    \n",
    "    nv = np.shape(img)[0]\n",
    "    nu = np.shape(img)[1]\n",
    "    # get the horizon when the camera is stable\n",
    "    (thetaStab, rhoStab) = Angle2Line(incStab, rollStab, IntrinsicMatrix)\n",
    "\n",
    "\n",
    "    # get the camera angles at any posture\n",
    "    (inc, roll) = Line2Angle(theta, rho, IntrinsicMatrix)\n",
    "    azi = 0\n",
    "\n",
    "    # stable the image, the horizon will be parallel with the u axis\n",
    "    (R, stabFrame) = StabImage(img, inc, roll, azi,\n",
    "                                    incStab, rollStab, aziStab, IntrinsicMatrix)\n",
    "\n",
    "    # try to get the top view\n",
    "    uplimit = int((nv - max(line[:, 0]))/4 + max(line[:, 0]))\n",
    "    bottomlimit = nv - int(nv/10)\n",
    "\n",
    "    uPoint_init = np.array([0, 0, 1920, 1920])\n",
    "    vPoint_init = np.array([uplimit, bottomlimit, bottomlimit, uplimit])\n",
    "\n",
    "    (uPoint0, vPoint0) = Image2Image(uPoint_init, vPoint_init,\n",
    "                                        roll, inc, azi, rollStab,\n",
    "                                        incStab, aziStab, IntrinsicMatrix)\n",
    "    uPoint = np.round(uPoint0 - min(uPoint0))\n",
    "    vPoint = np.round(vPoint0 - min(vPoint0))\n",
    "\n",
    "    uPoint_ori = uPoint_init - min(uPoint_init)\n",
    "    vPoint_ori = vPoint_init - min(vPoint_init)\n",
    "\n",
    "\n",
    "    (xPoint0, yPoint0) = Image2World(uPoint_init,vPoint_init, H,\n",
    "                                    roll, inc, azi, IntrinsicMatrix)\n",
    "    xPoint = xPoint0 - min(xPoint0)\n",
    "    yPoint = -yPoint0 + max(yPoint0)\n",
    "    xPoint = np.round(xPoint) * 10\n",
    "    yPoint = np.round(yPoint) * 10\n",
    "\n",
    "\n",
    "    pts0 = np.float32([[uPoint_ori[0], vPoint_ori[0]], [uPoint_ori[1], vPoint_ori[1]],\n",
    "                    [uPoint_ori[2], vPoint_ori[2]], [uPoint_ori[3], vPoint_ori[3]]])\n",
    "    pts1 = np.float32([[uPoint[0], vPoint[0]], [uPoint[1], vPoint[1]], \n",
    "                    [uPoint[2], vPoint[2]], [uPoint[3], vPoint[3]]])\n",
    "    pts2 = np.float32([[xPoint[0], yPoint[0]], [xPoint[1], yPoint[1]], \n",
    "                    [xPoint[2], yPoint[2]], [xPoint[3], yPoint[3]]])\n",
    "\n",
    "    # image size of the top view image\n",
    "    xlimit = int(max(xPoint) - min(xPoint))\n",
    "    ylimit = int(max(yPoint) - min(yPoint))\n",
    "    # image size of the stable image\n",
    "    ulimit_stable = int(max(uPoint) - min(uPoint))\n",
    "    vlimit_Stable = int(max(vPoint) - min(vPoint))\n",
    "\n",
    "    # get the corresponding ROI in the stabilized frames\n",
    "    M1 = cv2.getPerspectiveTransform(pts0, pts1)\n",
    "    a1 = roi \n",
    "    # TODO: I need to make this function simpler and better\n",
    "    dst1 = cv2.warpPerspective(a1,M1,(ulimit_stable, vlimit_Stable))\n",
    "    # get the rectified ROI\n",
    "    M2 = cv2.getPerspectiveTransform(pts1, pts2)\n",
    "    a2 = dst1\n",
    "    dst2 = cv2.warpPerspective(a2,M2,(xlimit, ylimit))\n",
    "    return dst2"
   ]
  },
  {
   "cell_type": "markdown",
   "metadata": {},
   "source": [
    "## Determine ROI"
   ]
  },
  {
   "cell_type": "code",
   "execution_count": 6,
   "metadata": {},
   "outputs": [],
   "source": [
    "def get_ROI(img):\n",
    "    \"\"\"_summary_\n",
    "\n",
    "    Args:\n",
    "        img (_type_): _description_\n",
    "    \"\"\"\n",
    "    nv = np.shape(img)[0]\n",
    "    nu = np.shape(img)[1]\n",
    "    \n",
    "    # detect the horizon in the image\n",
    "    (line, rho, theta) = Horizon_tracking(img)\n",
    "    \n",
    "    # determine the region of interest according to the horizon\n",
    "    uplimit = int((nv - max(line[:, 0]))/4 + max(line[:, 0]))\n",
    "    bottomlimit = nv - int(nv/10)\n",
    "    \n",
    "    return uplimit, bottomlimit, line, rho, theta"
   ]
  },
  {
   "cell_type": "markdown",
   "metadata": {},
   "source": [
    "## Test without loop"
   ]
  },
  {
   "cell_type": "code",
   "execution_count": 7,
   "metadata": {},
   "outputs": [
    {
     "name": "stderr",
     "output_type": "stream",
     "text": [
      "C:\\Users\\yang.xin1022\\AppData\\Local\\Temp\\ipykernel_10612\\3808386661.py:133: RuntimeWarning: divide by zero encountered in double_scalars\n",
      "  theta = np.arctan(-fu / (fv * np.tan(roll)))\n"
     ]
    }
   ],
   "source": [
    "device = torch.device(\"cuda\" if torch.cuda.is_available() else \"cpu\")\n",
    "\n",
    "img = cv2.imread(\"E:/GoPro_1Hz/2020_3_6_GoPro/image_left/GH080046.MP4/original_frame108.jpg\")\n",
    "roi_up, roi_bottom, line, rho, theta = get_ROI(img)\n",
    "#(line, rho, theta) = Horizon_tracking(img)\n",
    "img = cv2.cvtColor(img, cv2.COLOR_BGR2GRAY)\n",
    "\n",
    "img_roi = img[roi_up: roi_bottom+1, 0:1920]\n",
    "img_roi_tensor = torch.from_numpy(img_roi / 255).float()\n",
    "img_roi_tensor = img_roi_tensor.unsqueeze(0)\n",
    "img_roi_tensor = img_roi_tensor.unsqueeze(0)\n",
    "unet_model.to(device)\n",
    "img_roi_tensor = img_roi_tensor.to(device)\n",
    "\n",
    "with torch.no_grad():\n",
    "    output = unet_model(img_roi_tensor)\n",
    "output = output.squeeze(0)\n",
    "output = output.squeeze(0)\n",
    "\n",
    "# assign all large than 0.8 as 1 and less as 0\n",
    "output = output.cpu().numpy()\n",
    "\n",
    "output[output >= 0.8] = 1\n",
    "output[output < 0.8] = 0\n",
    "\n",
    "output_BGR = cv2.cvtColor(output, cv2.COLOR_GRAY2BGR)\n",
    "output_rectified = rectify(img,IntrinsicMatrix,H,incStab,rollStab,\n",
    "                           aziStab,line,rho,theta,output)\n",
    "\n",
    "img_roi_rec = rectify(img,IntrinsicMatrix,H,incStab,rollStab,\n",
    "                      aziStab,line,rho,theta,img_roi)\n",
    "area = img_roi_rec[img_roi_rec>0].size\n",
    "active_whitecaps = np.argwhere(output_rectified>0)\n",
    "active_whitecaps_area = output_rectified[output_rectified>0].size\n",
    "active_whitecaps_fraction = active_whitecaps_area / area\n",
    "\n",
    "\n",
    "aaa = rectify(img,IntrinsicMatrix,H,incStab,rollStab,aziStab,line,rho,theta,img_roi)"
   ]
  },
  {
   "cell_type": "code",
   "execution_count": 18,
   "metadata": {},
   "outputs": [
    {
     "data": {
      "text/plain": [
       "(874, 2)"
      ]
     },
     "execution_count": 18,
     "metadata": {},
     "output_type": "execute_result"
    }
   ],
   "source": [
    "active_whitecaps.shape"
   ]
  },
  {
   "cell_type": "code",
   "execution_count": 8,
   "metadata": {},
   "outputs": [
    {
     "data": {
      "text/plain": [
       "<matplotlib.image.AxesImage at 0x22aaf154dc0>"
      ]
     },
     "execution_count": 8,
     "metadata": {},
     "output_type": "execute_result"
    },
    {
     "data": {
      "image/png": "[encoded data removed]",
      "text/plain": [
       "<Figure size 432x288 with 1 Axes>"
      ]
     },
     "metadata": {
      "needs_background": "light"
     },
     "output_type": "display_data"
    }
   ],
   "source": [
    "plt.imshow(output)"
   ]
  },
  {
   "cell_type": "code",
   "execution_count": 9,
   "metadata": {},
   "outputs": [
    {
     "data": {
      "text/plain": [
       "<matplotlib.image.AxesImage at 0x22a865f95a0>"
      ]
     },
     "execution_count": 9,
     "metadata": {},
     "output_type": "execute_result"
    },
    {
     "data": {
      "image/png": "[encoded data removed]",
      "text/plain": [
       "<Figure size 432x288 with 1 Axes>"
      ]
     },
     "metadata": {
      "needs_background": "light"
     },
     "output_type": "display_data"
    }
   ],
   "source": [
    "plt.imshow(img_roi_rec)"
   ]
  },
  {
   "cell_type": "code",
   "execution_count": 10,
   "metadata": {},
   "outputs": [
    {
     "data": {
      "text/plain": [
       "True"
      ]
     },
     "execution_count": 10,
     "metadata": {},
     "output_type": "execute_result"
    },
    {
     "data": {
      "image/png": "[encoded data removed]",
      "text/plain": [
       "<Figure size 432x288 with 1 Axes>"
      ]
     },
     "metadata": {
      "needs_background": "light"
     },
     "output_type": "display_data"
    }
   ],
   "source": [
    "plt.imshow(aaa)\n",
    "cv2.imwrite('example2.png', aaa)"
   ]
  },
  {
   "cell_type": "code",
   "execution_count": 11,
   "metadata": {},
   "outputs": [
    {
     "data": {
      "text/plain": [
       "True"
      ]
     },
     "execution_count": 11,
     "metadata": {},
     "output_type": "execute_result"
    },
    {
     "data": {
      "image/png": "[encoded data removed]",
      "text/plain": [
       "<Figure size 432x288 with 1 Axes>"
      ]
     },
     "metadata": {
      "needs_background": "light"
     },
     "output_type": "display_data"
    }
   ],
   "source": [
    "plt.imshow(img_roi)\n",
    "cv2.imwrite('example1.png', img_roi)"
   ]
  },
  {
   "cell_type": "code",
   "execution_count": 12,
   "metadata": {},
   "outputs": [
    {
     "data": {
      "text/plain": [
       "True"
      ]
     },
     "execution_count": 12,
     "metadata": {},
     "output_type": "execute_result"
    },
    {
     "data": {
      "image/png": "[encoded data removed]",
      "text/plain": [
       "<Figure size 432x288 with 1 Axes>"
      ]
     },
     "metadata": {
      "needs_background": "light"
     },
     "output_type": "display_data"
    }
   ],
   "source": [
    "plt.imshow(output)\n",
    "cv2.imwrite('example1_a.png', output*255)"
   ]
  },
  {
   "cell_type": "code",
   "execution_count": 13,
   "metadata": {},
   "outputs": [
    {
     "data": {
      "text/plain": [
       "True"
      ]
     },
     "execution_count": 13,
     "metadata": {},
     "output_type": "execute_result"
    },
    {
     "data": {
      "image/png": "[encoded data removed]",
      "text/plain": [
       "<Figure size 432x288 with 1 Axes>"
      ]
     },
     "metadata": {
      "needs_background": "light"
     },
     "output_type": "display_data"
    }
   ],
   "source": [
    "plt.imshow(output_rectified)\n",
    "cv2.imwrite('example22.png', output_rectified*255)"
   ]
  },
  {
   "cell_type": "code",
   "execution_count": 16,
   "metadata": {},
   "outputs": [
    {
     "data": {
      "text/plain": [
       "874"
      ]
     },
     "execution_count": 16,
     "metadata": {},
     "output_type": "execute_result"
    }
   ],
   "source": [
    "active_whitecaps_area"
   ]
  },
  {
   "cell_type": "code",
   "execution_count": 15,
   "metadata": {},
   "outputs": [
    {
     "data": {
      "text/plain": [
       "100446"
      ]
     },
     "execution_count": 15,
     "metadata": {},
     "output_type": "execute_result"
    }
   ],
   "source": [
    "area"
   ]
  },
  {
   "cell_type": "code",
   "execution_count": 20,
   "metadata": {},
   "outputs": [
    {
     "data": {
      "text/plain": [
       "194400"
      ]
     },
     "execution_count": 20,
     "metadata": {},
     "output_type": "execute_result"
    }
   ],
   "source": [
    "img_roi_rec.size"
   ]
  },
  {
   "cell_type": "code",
   "execution_count": 21,
   "metadata": {},
   "outputs": [
    {
     "data": {
      "text/plain": [
       "0.004495884773662551"
      ]
     },
     "execution_count": 21,
     "metadata": {},
     "output_type": "execute_result"
    }
   ],
   "source": [
    "874/194400"
   ]
  },
  {
   "cell_type": "code",
   "execution_count": 14,
   "metadata": {},
   "outputs": [
    {
     "data": {
      "text/plain": [
       "0.008701192680644326"
      ]
     },
     "execution_count": 14,
     "metadata": {},
     "output_type": "execute_result"
    }
   ],
   "source": [
    "active_whitecaps_fraction"
   ]
  },
  {
   "cell_type": "markdown",
   "metadata": {},
   "source": [
    "## Loop Test"
   ]
  },
  {
   "cell_type": "code",
   "execution_count": 7,
   "metadata": {},
   "outputs": [],
   "source": [
    "import pandas as pd\n",
    "import warnings\n",
    "warnings.filterwarnings(\"ignore\")\n",
    "\n",
    "result = pd.DataFrame(columns=('date','camera','video','image_fname',\n",
    "                               'active_whitecaps','active_whitecaps_fraction',\n",
    "                               'predict_image'))"
   ]
  },
  {
   "cell_type": "code",
   "execution_count": 8,
   "metadata": {},
   "outputs": [],
   "source": [
    "import os\n",
    "\n",
    "store_path = \"E:\\GoPro_1Hz\"\n",
    "date_folder = []\n",
    "\n",
    "# get the names of the folders that store images\n",
    "for file in os.listdir(store_path):\n",
    "    if os.path.isdir(os.path.join(store_path, file)):\n",
    "        date_folder.append(file)\n",
    "\n",
    "# get the name of the folders that store one of these cameras\n",
    "camera_folder = os.listdir(os.path.join(store_path, date_folder[0]))\n",
    "\n",
    "# get the name of the folders that store images of these videos\n",
    "video_path = os.path.join(store_path, date_folder[0], camera_folder[0])\n",
    "video_folder = os.listdir(video_path)\n",
    "# get the name of each image\n",
    "image_path = os.path.join(video_path, video_folder[0])\n",
    "image_file = os.listdir(image_path)\n",
    "image_file.sort(key=lambda x:int(x[14:-4]))"
   ]
  },
  {
   "cell_type": "code",
   "execution_count": 9,
   "metadata": {},
   "outputs": [
    {
     "data": {
      "text/plain": [
       "['2020_3_4_GoPro', '2020_3_5_GoPro', '2020_3_6_GoPro', '2020_3_7_GoPro']"
      ]
     },
     "execution_count": 9,
     "metadata": {},
     "output_type": "execute_result"
    }
   ],
   "source": [
    "date_folder"
   ]
  },
  {
   "cell_type": "code",
   "execution_count": 10,
   "metadata": {},
   "outputs": [
    {
     "data": {
      "text/plain": [
       "['image_left', 'image_right']"
      ]
     },
     "execution_count": 10,
     "metadata": {},
     "output_type": "execute_result"
    }
   ],
   "source": [
    "camera_folder"
   ]
  },
  {
   "cell_type": "code",
   "execution_count": 11,
   "metadata": {},
   "outputs": [
    {
     "data": {
      "text/plain": [
       "['GH010004.MP4',\n",
       " 'GH010005.MP4',\n",
       " 'GH010006.MP4',\n",
       " 'GH020004.MP4',\n",
       " 'GH020005.MP4',\n",
       " 'GH020006.MP4',\n",
       " 'GH030004.MP4',\n",
       " 'GH030005.MP4',\n",
       " 'GH030006.MP4',\n",
       " 'GH040004.MP4',\n",
       " 'GH040005.MP4',\n",
       " 'GH040006.MP4',\n",
       " 'GH050004.MP4',\n",
       " 'GH050005.MP4',\n",
       " 'GH050006.MP4',\n",
       " 'GH060004.MP4',\n",
       " 'GH060005.MP4',\n",
       " 'GH060006.MP4',\n",
       " 'GH070004.MP4',\n",
       " 'GH070005.MP4',\n",
       " 'GH070006.MP4',\n",
       " 'GH080004.MP4',\n",
       " 'GH080005.MP4',\n",
       " 'GH080006.MP4',\n",
       " 'GH090004.MP4',\n",
       " 'GH090005.MP4',\n",
       " 'GH090006.MP4']"
      ]
     },
     "execution_count": 11,
     "metadata": {},
     "output_type": "execute_result"
    }
   ],
   "source": [
    "video_folder"
   ]
  },
  {
   "cell_type": "code",
   "execution_count": 12,
   "metadata": {},
   "outputs": [
    {
     "data": {
      "text/plain": [
       "['original_frame1.jpg',\n",
       " 'original_frame2.jpg',\n",
       " 'original_frame3.jpg',\n",
       " 'original_frame4.jpg',\n",
       " 'original_frame5.jpg',\n",
       " 'original_frame6.jpg',\n",
       " 'original_frame7.jpg',\n",
       " 'original_frame8.jpg',\n",
       " 'original_frame9.jpg',\n",
       " 'original_frame10.jpg',\n",
       " 'original_frame11.jpg',\n",
       " 'original_frame12.jpg',\n",
       " 'original_frame13.jpg',\n",
       " 'original_frame14.jpg',\n",
       " 'original_frame15.jpg',\n",
       " 'original_frame16.jpg',\n",
       " 'original_frame17.jpg',\n",
       " 'original_frame18.jpg',\n",
       " 'original_frame19.jpg',\n",
       " 'original_frame20.jpg',\n",
       " 'original_frame21.jpg',\n",
       " 'original_frame22.jpg',\n",
       " 'original_frame23.jpg',\n",
       " 'original_frame24.jpg',\n",
       " 'original_frame25.jpg',\n",
       " 'original_frame26.jpg',\n",
       " 'original_frame27.jpg',\n",
       " 'original_frame28.jpg',\n",
       " 'original_frame29.jpg',\n",
       " 'original_frame30.jpg',\n",
       " 'original_frame31.jpg',\n",
       " 'original_frame32.jpg',\n",
       " 'original_frame33.jpg',\n",
       " 'original_frame34.jpg',\n",
       " 'original_frame35.jpg',\n",
       " 'original_frame36.jpg',\n",
       " 'original_frame37.jpg',\n",
       " 'original_frame38.jpg',\n",
       " 'original_frame39.jpg',\n",
       " 'original_frame40.jpg',\n",
       " 'original_frame41.jpg',\n",
       " 'original_frame42.jpg',\n",
       " 'original_frame43.jpg',\n",
       " 'original_frame44.jpg',\n",
       " 'original_frame45.jpg',\n",
       " 'original_frame46.jpg',\n",
       " 'original_frame47.jpg',\n",
       " 'original_frame48.jpg',\n",
       " 'original_frame49.jpg',\n",
       " 'original_frame50.jpg',\n",
       " 'original_frame51.jpg',\n",
       " 'original_frame52.jpg',\n",
       " 'original_frame53.jpg',\n",
       " 'original_frame54.jpg',\n",
       " 'original_frame55.jpg',\n",
       " 'original_frame56.jpg',\n",
       " 'original_frame57.jpg',\n",
       " 'original_frame58.jpg',\n",
       " 'original_frame59.jpg',\n",
       " 'original_frame60.jpg',\n",
       " 'original_frame61.jpg',\n",
       " 'original_frame62.jpg',\n",
       " 'original_frame63.jpg',\n",
       " 'original_frame64.jpg',\n",
       " 'original_frame65.jpg',\n",
       " 'original_frame66.jpg',\n",
       " 'original_frame67.jpg',\n",
       " 'original_frame68.jpg',\n",
       " 'original_frame69.jpg',\n",
       " 'original_frame70.jpg',\n",
       " 'original_frame71.jpg',\n",
       " 'original_frame72.jpg',\n",
       " 'original_frame73.jpg',\n",
       " 'original_frame74.jpg',\n",
       " 'original_frame75.jpg',\n",
       " 'original_frame76.jpg',\n",
       " 'original_frame77.jpg',\n",
       " 'original_frame78.jpg',\n",
       " 'original_frame79.jpg',\n",
       " 'original_frame80.jpg',\n",
       " 'original_frame81.jpg',\n",
       " 'original_frame82.jpg',\n",
       " 'original_frame83.jpg',\n",
       " 'original_frame84.jpg',\n",
       " 'original_frame85.jpg',\n",
       " 'original_frame86.jpg',\n",
       " 'original_frame87.jpg',\n",
       " 'original_frame88.jpg',\n",
       " 'original_frame89.jpg',\n",
       " 'original_frame90.jpg',\n",
       " 'original_frame91.jpg',\n",
       " 'original_frame92.jpg',\n",
       " 'original_frame93.jpg',\n",
       " 'original_frame94.jpg',\n",
       " 'original_frame95.jpg',\n",
       " 'original_frame96.jpg',\n",
       " 'original_frame97.jpg',\n",
       " 'original_frame98.jpg',\n",
       " 'original_frame99.jpg',\n",
       " 'original_frame100.jpg',\n",
       " 'original_frame101.jpg',\n",
       " 'original_frame102.jpg',\n",
       " 'original_frame103.jpg',\n",
       " 'original_frame104.jpg',\n",
       " 'original_frame105.jpg',\n",
       " 'original_frame106.jpg',\n",
       " 'original_frame107.jpg',\n",
       " 'original_frame108.jpg',\n",
       " 'original_frame109.jpg',\n",
       " 'original_frame110.jpg',\n",
       " 'original_frame111.jpg',\n",
       " 'original_frame112.jpg',\n",
       " 'original_frame113.jpg',\n",
       " 'original_frame114.jpg',\n",
       " 'original_frame115.jpg',\n",
       " 'original_frame116.jpg',\n",
       " 'original_frame117.jpg',\n",
       " 'original_frame118.jpg',\n",
       " 'original_frame119.jpg',\n",
       " 'original_frame120.jpg',\n",
       " 'original_frame121.jpg',\n",
       " 'original_frame122.jpg',\n",
       " 'original_frame123.jpg',\n",
       " 'original_frame124.jpg',\n",
       " 'original_frame125.jpg',\n",
       " 'original_frame126.jpg',\n",
       " 'original_frame127.jpg',\n",
       " 'original_frame128.jpg',\n",
       " 'original_frame129.jpg',\n",
       " 'original_frame130.jpg',\n",
       " 'original_frame131.jpg',\n",
       " 'original_frame132.jpg',\n",
       " 'original_frame133.jpg',\n",
       " 'original_frame134.jpg',\n",
       " 'original_frame135.jpg',\n",
       " 'original_frame136.jpg',\n",
       " 'original_frame137.jpg',\n",
       " 'original_frame138.jpg',\n",
       " 'original_frame139.jpg',\n",
       " 'original_frame140.jpg',\n",
       " 'original_frame141.jpg',\n",
       " 'original_frame142.jpg',\n",
       " 'original_frame143.jpg',\n",
       " 'original_frame144.jpg',\n",
       " 'original_frame145.jpg',\n",
       " 'original_frame146.jpg',\n",
       " 'original_frame147.jpg',\n",
       " 'original_frame148.jpg',\n",
       " 'original_frame149.jpg',\n",
       " 'original_frame150.jpg',\n",
       " 'original_frame151.jpg',\n",
       " 'original_frame152.jpg',\n",
       " 'original_frame153.jpg',\n",
       " 'original_frame154.jpg',\n",
       " 'original_frame155.jpg',\n",
       " 'original_frame156.jpg',\n",
       " 'original_frame157.jpg',\n",
       " 'original_frame158.jpg',\n",
       " 'original_frame159.jpg',\n",
       " 'original_frame160.jpg',\n",
       " 'original_frame161.jpg',\n",
       " 'original_frame162.jpg',\n",
       " 'original_frame163.jpg',\n",
       " 'original_frame164.jpg',\n",
       " 'original_frame165.jpg',\n",
       " 'original_frame166.jpg',\n",
       " 'original_frame167.jpg',\n",
       " 'original_frame168.jpg',\n",
       " 'original_frame169.jpg',\n",
       " 'original_frame170.jpg',\n",
       " 'original_frame171.jpg',\n",
       " 'original_frame172.jpg',\n",
       " 'original_frame173.jpg',\n",
       " 'original_frame174.jpg',\n",
       " 'original_frame175.jpg',\n",
       " 'original_frame176.jpg',\n",
       " 'original_frame177.jpg',\n",
       " 'original_frame178.jpg',\n",
       " 'original_frame179.jpg',\n",
       " 'original_frame180.jpg',\n",
       " 'original_frame181.jpg',\n",
       " 'original_frame182.jpg',\n",
       " 'original_frame183.jpg',\n",
       " 'original_frame184.jpg',\n",
       " 'original_frame185.jpg',\n",
       " 'original_frame186.jpg',\n",
       " 'original_frame187.jpg',\n",
       " 'original_frame188.jpg',\n",
       " 'original_frame189.jpg',\n",
       " 'original_frame190.jpg',\n",
       " 'original_frame191.jpg',\n",
       " 'original_frame192.jpg',\n",
       " 'original_frame193.jpg',\n",
       " 'original_frame194.jpg',\n",
       " 'original_frame195.jpg',\n",
       " 'original_frame196.jpg',\n",
       " 'original_frame197.jpg',\n",
       " 'original_frame198.jpg',\n",
       " 'original_frame199.jpg',\n",
       " 'original_frame200.jpg',\n",
       " 'original_frame201.jpg',\n",
       " 'original_frame202.jpg',\n",
       " 'original_frame203.jpg',\n",
       " 'original_frame204.jpg',\n",
       " 'original_frame205.jpg',\n",
       " 'original_frame206.jpg',\n",
       " 'original_frame207.jpg',\n",
       " 'original_frame208.jpg',\n",
       " 'original_frame209.jpg',\n",
       " 'original_frame210.jpg',\n",
       " 'original_frame211.jpg',\n",
       " 'original_frame212.jpg',\n",
       " 'original_frame213.jpg',\n",
       " 'original_frame214.jpg',\n",
       " 'original_frame215.jpg',\n",
       " 'original_frame216.jpg',\n",
       " 'original_frame217.jpg',\n",
       " 'original_frame218.jpg',\n",
       " 'original_frame219.jpg',\n",
       " 'original_frame220.jpg',\n",
       " 'original_frame221.jpg',\n",
       " 'original_frame222.jpg',\n",
       " 'original_frame223.jpg',\n",
       " 'original_frame224.jpg',\n",
       " 'original_frame225.jpg',\n",
       " 'original_frame226.jpg',\n",
       " 'original_frame227.jpg',\n",
       " 'original_frame228.jpg',\n",
       " 'original_frame229.jpg',\n",
       " 'original_frame230.jpg',\n",
       " 'original_frame231.jpg',\n",
       " 'original_frame232.jpg',\n",
       " 'original_frame233.jpg',\n",
       " 'original_frame234.jpg',\n",
       " 'original_frame235.jpg',\n",
       " 'original_frame236.jpg',\n",
       " 'original_frame237.jpg',\n",
       " 'original_frame238.jpg',\n",
       " 'original_frame239.jpg',\n",
       " 'original_frame240.jpg',\n",
       " 'original_frame241.jpg',\n",
       " 'original_frame242.jpg',\n",
       " 'original_frame243.jpg',\n",
       " 'original_frame244.jpg',\n",
       " 'original_frame245.jpg',\n",
       " 'original_frame246.jpg',\n",
       " 'original_frame247.jpg',\n",
       " 'original_frame248.jpg',\n",
       " 'original_frame249.jpg',\n",
       " 'original_frame250.jpg',\n",
       " 'original_frame251.jpg',\n",
       " 'original_frame252.jpg',\n",
       " 'original_frame253.jpg',\n",
       " 'original_frame254.jpg',\n",
       " 'original_frame255.jpg',\n",
       " 'original_frame256.jpg',\n",
       " 'original_frame257.jpg',\n",
       " 'original_frame258.jpg',\n",
       " 'original_frame259.jpg',\n",
       " 'original_frame260.jpg',\n",
       " 'original_frame261.jpg',\n",
       " 'original_frame262.jpg',\n",
       " 'original_frame263.jpg',\n",
       " 'original_frame264.jpg',\n",
       " 'original_frame265.jpg',\n",
       " 'original_frame266.jpg',\n",
       " 'original_frame267.jpg',\n",
       " 'original_frame268.jpg',\n",
       " 'original_frame269.jpg',\n",
       " 'original_frame270.jpg',\n",
       " 'original_frame271.jpg',\n",
       " 'original_frame272.jpg',\n",
       " 'original_frame273.jpg',\n",
       " 'original_frame274.jpg',\n",
       " 'original_frame275.jpg',\n",
       " 'original_frame276.jpg',\n",
       " 'original_frame277.jpg',\n",
       " 'original_frame278.jpg',\n",
       " 'original_frame279.jpg',\n",
       " 'original_frame280.jpg',\n",
       " 'original_frame281.jpg',\n",
       " 'original_frame282.jpg',\n",
       " 'original_frame283.jpg',\n",
       " 'original_frame284.jpg',\n",
       " 'original_frame285.jpg',\n",
       " 'original_frame286.jpg',\n",
       " 'original_frame287.jpg',\n",
       " 'original_frame288.jpg',\n",
       " 'original_frame289.jpg',\n",
       " 'original_frame290.jpg',\n",
       " 'original_frame291.jpg',\n",
       " 'original_frame292.jpg',\n",
       " 'original_frame293.jpg',\n",
       " 'original_frame294.jpg',\n",
       " 'original_frame295.jpg',\n",
       " 'original_frame296.jpg',\n",
       " 'original_frame297.jpg',\n",
       " 'original_frame298.jpg',\n",
       " 'original_frame299.jpg',\n",
       " 'original_frame300.jpg',\n",
       " 'original_frame301.jpg',\n",
       " 'original_frame302.jpg',\n",
       " 'original_frame303.jpg',\n",
       " 'original_frame304.jpg',\n",
       " 'original_frame305.jpg',\n",
       " 'original_frame306.jpg',\n",
       " 'original_frame307.jpg',\n",
       " 'original_frame308.jpg',\n",
       " 'original_frame309.jpg',\n",
       " 'original_frame310.jpg',\n",
       " 'original_frame311.jpg',\n",
       " 'original_frame312.jpg',\n",
       " 'original_frame313.jpg',\n",
       " 'original_frame314.jpg',\n",
       " 'original_frame315.jpg',\n",
       " 'original_frame316.jpg',\n",
       " 'original_frame317.jpg',\n",
       " 'original_frame318.jpg',\n",
       " 'original_frame319.jpg',\n",
       " 'original_frame320.jpg',\n",
       " 'original_frame321.jpg',\n",
       " 'original_frame322.jpg',\n",
       " 'original_frame323.jpg',\n",
       " 'original_frame324.jpg',\n",
       " 'original_frame325.jpg',\n",
       " 'original_frame326.jpg',\n",
       " 'original_frame327.jpg',\n",
       " 'original_frame328.jpg',\n",
       " 'original_frame329.jpg',\n",
       " 'original_frame330.jpg',\n",
       " 'original_frame331.jpg',\n",
       " 'original_frame332.jpg',\n",
       " 'original_frame333.jpg',\n",
       " 'original_frame334.jpg',\n",
       " 'original_frame335.jpg',\n",
       " 'original_frame336.jpg',\n",
       " 'original_frame337.jpg',\n",
       " 'original_frame338.jpg',\n",
       " 'original_frame339.jpg',\n",
       " 'original_frame340.jpg',\n",
       " 'original_frame341.jpg',\n",
       " 'original_frame342.jpg',\n",
       " 'original_frame343.jpg',\n",
       " 'original_frame344.jpg',\n",
       " 'original_frame345.jpg',\n",
       " 'original_frame346.jpg',\n",
       " 'original_frame347.jpg',\n",
       " 'original_frame348.jpg',\n",
       " 'original_frame349.jpg',\n",
       " 'original_frame350.jpg',\n",
       " 'original_frame351.jpg',\n",
       " 'original_frame352.jpg',\n",
       " 'original_frame353.jpg',\n",
       " 'original_frame354.jpg',\n",
       " 'original_frame355.jpg',\n",
       " 'original_frame356.jpg',\n",
       " 'original_frame357.jpg',\n",
       " 'original_frame358.jpg',\n",
       " 'original_frame359.jpg',\n",
       " 'original_frame360.jpg',\n",
       " 'original_frame361.jpg',\n",
       " 'original_frame362.jpg',\n",
       " 'original_frame363.jpg',\n",
       " 'original_frame364.jpg',\n",
       " 'original_frame365.jpg',\n",
       " 'original_frame366.jpg',\n",
       " 'original_frame367.jpg',\n",
       " 'original_frame368.jpg',\n",
       " 'original_frame369.jpg',\n",
       " 'original_frame370.jpg',\n",
       " 'original_frame371.jpg',\n",
       " 'original_frame372.jpg',\n",
       " 'original_frame373.jpg',\n",
       " 'original_frame374.jpg',\n",
       " 'original_frame375.jpg',\n",
       " 'original_frame376.jpg',\n",
       " 'original_frame377.jpg',\n",
       " 'original_frame378.jpg',\n",
       " 'original_frame379.jpg',\n",
       " 'original_frame380.jpg',\n",
       " 'original_frame381.jpg',\n",
       " 'original_frame382.jpg',\n",
       " 'original_frame383.jpg',\n",
       " 'original_frame384.jpg',\n",
       " 'original_frame385.jpg',\n",
       " 'original_frame386.jpg',\n",
       " 'original_frame387.jpg',\n",
       " 'original_frame388.jpg',\n",
       " 'original_frame389.jpg',\n",
       " 'original_frame390.jpg',\n",
       " 'original_frame391.jpg',\n",
       " 'original_frame392.jpg',\n",
       " 'original_frame393.jpg',\n",
       " 'original_frame394.jpg',\n",
       " 'original_frame395.jpg',\n",
       " 'original_frame396.jpg',\n",
       " 'original_frame397.jpg',\n",
       " 'original_frame398.jpg',\n",
       " 'original_frame399.jpg',\n",
       " 'original_frame400.jpg',\n",
       " 'original_frame401.jpg',\n",
       " 'original_frame402.jpg',\n",
       " 'original_frame403.jpg',\n",
       " 'original_frame404.jpg',\n",
       " 'original_frame405.jpg',\n",
       " 'original_frame406.jpg',\n",
       " 'original_frame407.jpg',\n",
       " 'original_frame408.jpg',\n",
       " 'original_frame409.jpg',\n",
       " 'original_frame410.jpg',\n",
       " 'original_frame411.jpg',\n",
       " 'original_frame412.jpg',\n",
       " 'original_frame413.jpg',\n",
       " 'original_frame414.jpg',\n",
       " 'original_frame415.jpg',\n",
       " 'original_frame416.jpg',\n",
       " 'original_frame417.jpg',\n",
       " 'original_frame418.jpg',\n",
       " 'original_frame419.jpg',\n",
       " 'original_frame420.jpg',\n",
       " 'original_frame421.jpg',\n",
       " 'original_frame422.jpg',\n",
       " 'original_frame423.jpg',\n",
       " 'original_frame424.jpg',\n",
       " 'original_frame425.jpg',\n",
       " 'original_frame426.jpg',\n",
       " 'original_frame427.jpg',\n",
       " 'original_frame428.jpg',\n",
       " 'original_frame429.jpg',\n",
       " 'original_frame430.jpg',\n",
       " 'original_frame431.jpg',\n",
       " 'original_frame432.jpg',\n",
       " 'original_frame433.jpg',\n",
       " 'original_frame434.jpg',\n",
       " 'original_frame435.jpg',\n",
       " 'original_frame436.jpg',\n",
       " 'original_frame437.jpg',\n",
       " 'original_frame438.jpg',\n",
       " 'original_frame439.jpg',\n",
       " 'original_frame440.jpg',\n",
       " 'original_frame441.jpg',\n",
       " 'original_frame442.jpg',\n",
       " 'original_frame443.jpg',\n",
       " 'original_frame444.jpg',\n",
       " 'original_frame445.jpg',\n",
       " 'original_frame446.jpg',\n",
       " 'original_frame447.jpg',\n",
       " 'original_frame448.jpg',\n",
       " 'original_frame449.jpg',\n",
       " 'original_frame450.jpg',\n",
       " 'original_frame451.jpg',\n",
       " 'original_frame452.jpg',\n",
       " 'original_frame453.jpg',\n",
       " 'original_frame454.jpg',\n",
       " 'original_frame455.jpg',\n",
       " 'original_frame456.jpg',\n",
       " 'original_frame457.jpg',\n",
       " 'original_frame458.jpg',\n",
       " 'original_frame459.jpg',\n",
       " 'original_frame460.jpg',\n",
       " 'original_frame461.jpg',\n",
       " 'original_frame462.jpg',\n",
       " 'original_frame463.jpg',\n",
       " 'original_frame464.jpg',\n",
       " 'original_frame465.jpg',\n",
       " 'original_frame466.jpg',\n",
       " 'original_frame467.jpg',\n",
       " 'original_frame468.jpg',\n",
       " 'original_frame469.jpg',\n",
       " 'original_frame470.jpg',\n",
       " 'original_frame471.jpg',\n",
       " 'original_frame472.jpg',\n",
       " 'original_frame473.jpg',\n",
       " 'original_frame474.jpg',\n",
       " 'original_frame475.jpg',\n",
       " 'original_frame476.jpg',\n",
       " 'original_frame477.jpg',\n",
       " 'original_frame478.jpg',\n",
       " 'original_frame479.jpg',\n",
       " 'original_frame480.jpg',\n",
       " 'original_frame481.jpg',\n",
       " 'original_frame482.jpg',\n",
       " 'original_frame483.jpg',\n",
       " 'original_frame484.jpg',\n",
       " 'original_frame485.jpg',\n",
       " 'original_frame486.jpg',\n",
       " 'original_frame487.jpg',\n",
       " 'original_frame488.jpg',\n",
       " 'original_frame489.jpg',\n",
       " 'original_frame490.jpg',\n",
       " 'original_frame491.jpg',\n",
       " 'original_frame492.jpg',\n",
       " 'original_frame493.jpg',\n",
       " 'original_frame494.jpg',\n",
       " 'original_frame495.jpg',\n",
       " 'original_frame496.jpg',\n",
       " 'original_frame497.jpg',\n",
       " 'original_frame498.jpg',\n",
       " 'original_frame499.jpg',\n",
       " 'original_frame500.jpg',\n",
       " 'original_frame501.jpg',\n",
       " 'original_frame502.jpg',\n",
       " 'original_frame503.jpg',\n",
       " 'original_frame504.jpg',\n",
       " 'original_frame505.jpg',\n",
       " 'original_frame506.jpg',\n",
       " 'original_frame507.jpg',\n",
       " 'original_frame508.jpg',\n",
       " 'original_frame509.jpg',\n",
       " 'original_frame510.jpg',\n",
       " 'original_frame511.jpg',\n",
       " 'original_frame512.jpg',\n",
       " 'original_frame513.jpg',\n",
       " 'original_frame514.jpg',\n",
       " 'original_frame515.jpg',\n",
       " 'original_frame516.jpg',\n",
       " 'original_frame517.jpg',\n",
       " 'original_frame518.jpg',\n",
       " 'original_frame519.jpg',\n",
       " 'original_frame520.jpg',\n",
       " 'original_frame521.jpg',\n",
       " 'original_frame522.jpg',\n",
       " 'original_frame523.jpg',\n",
       " 'original_frame524.jpg',\n",
       " 'original_frame525.jpg',\n",
       " 'original_frame526.jpg',\n",
       " 'original_frame527.jpg',\n",
       " 'original_frame528.jpg',\n",
       " 'original_frame529.jpg',\n",
       " 'original_frame530.jpg',\n",
       " 'original_frame531.jpg']"
      ]
     },
     "execution_count": 12,
     "metadata": {},
     "output_type": "execute_result"
    }
   ],
   "source": [
    "image_file"
   ]
  },
  {
   "cell_type": "code",
   "execution_count": 18,
   "metadata": {},
   "outputs": [],
   "source": [
    "device = torch.device(\"cuda\" if torch.cuda.is_available() else \"cpu\")\n",
    "for fname in image_file:\n",
    "    \n",
    "    path = os.path.join(image_path, fname)\n",
    "    img = cv2.imread(path)\n",
    "    roi_up, roi_bottom, line, rho, theta = get_ROI(img)\n",
    "    img = cv2.cvtColor(img, cv2.COLOR_BGR2GRAY)\n",
    "    \n",
    "    img_roi = img[roi_up: roi_bottom+1, 0:1920]\n",
    "    img_roi_tensor = torch.from_numpy(img_roi / 255).float()\n",
    "    img_roi_tensor = img_roi_tensor.unsqueeze(0)\n",
    "    img_roi_tensor = img_roi_tensor.unsqueeze(0)\n",
    "    unet_model.to(device)\n",
    "    img_roi_tensor = img_roi_tensor.to(device)\n",
    "    \n",
    "    with torch.no_grad():\n",
    "        output = unet_model(img_roi_tensor)\n",
    "    output = output.squeeze(0)\n",
    "    output = output.squeeze(0)\n",
    "    \n",
    "    # assign all large than 0.8 as 1 and less as 0\n",
    "    output = output.cpu().numpy()\n",
    "\n",
    "    output[output >= 0.8] = 1\n",
    "    output[output < 0.8] = 0\n",
    "\n",
    "    output_BGR = cv2.cvtColor(output, cv2.COLOR_GRAY2BGR)\n",
    "    output_rectified = rectify(img,IntrinsicMatrix,H,incStab,rollStab,\n",
    "                            aziStab,line,rho,theta,output)\n",
    "\n",
    "    img_roi_rec = rectify(img,IntrinsicMatrix,H,incStab,rollStab,\n",
    "                        aziStab,line,rho,theta,img_roi)\n",
    "    area = img_roi_rec[img_roi_rec>0].size\n",
    "    active_whitecaps = np.argwhere(output_rectified>0)\n",
    "    active_whitecaps_area = output_rectified[output_rectified>0].size\n",
    "    active_whitecaps_fraction = active_whitecaps_area / area\n",
    "    result = result.append(pd.DataFrame({\n",
    "        'date':[date_folder[0]],\n",
    "        'camera':[camera_folder[0]],\n",
    "        'video':[video_folder[0]],\n",
    "        'image_fname':[fname],\n",
    "        'active_whitecaps':[active_whitecaps],\n",
    "        'active_whitecaps_fraction':[active_whitecaps_fraction],\n",
    "        'predict_image':[output]\n",
    "    }))"
   ]
  },
  {
   "cell_type": "code",
   "execution_count": 19,
   "metadata": {},
   "outputs": [
    {
     "data": {
      "text/plain": [
       "[<matplotlib.lines.Line2D at 0x21f13183eb0>]"
      ]
     },
     "execution_count": 19,
     "metadata": {},
     "output_type": "execute_result"
    },
    {
     "data": {
      "image/png": "[encoded data removed]",
      "text/plain": [
       "<Figure size 432x288 with 1 Axes>"
      ]
     },
     "metadata": {
      "needs_background": "light"
     },
     "output_type": "display_data"
    }
   ],
   "source": [
    "result = result.reset_index(drop=True)\n",
    "result.to_csv(\"E:/GoPro_1Hz_Unet_output/test_2022_6_26.csv\")\n",
    "plt.semilogy(np.arange(531), result['active_whitecaps_fraction'].values.astype(float))"
   ]
  },
  {
   "cell_type": "markdown",
   "metadata": {},
   "source": [
    "# Loop For one Day"
   ]
  },
  {
   "cell_type": "code",
   "execution_count": null,
   "metadata": {},
   "outputs": [],
   "source": [
    "import os\n",
    "\n",
    "store_path = \"E:\\GoPro_1Hz\"\n",
    "date_folder = []\n",
    "\n",
    "# get the names of the folders that store images\n",
    "for file in os.listdir(store_path):\n",
    "    if os.path.isdir(os.path.join(store_path, file)):\n",
    "        date_folder.append(file)\n",
    "\n",
    "# get the name of the folders that store one of these cameras\n",
    "camera_folder = os.listdir(os.path.join(store_path, date_folder[0]))\n",
    "\n",
    "# get the name of the folders that store images of these videos\n",
    "video_path = os.path.join(store_path, date_folder[0], camera_folder[0])\n",
    "video_folder = os.listdir(video_path)\n",
    "# get the name of each image\n",
    "image_path = os.path.join(video_path, video_folder[0])\n",
    "image_file = os.listdir(image_path)\n",
    "image_file.sort(key=lambda x:int(x[14:-4]))"
   ]
  },
  {
   "cell_type": "code",
   "execution_count": null,
   "metadata": {},
   "outputs": [],
   "source": [
    "store_path = \"E:\\GoPro_1Hz\"\n",
    "date_folder = []\n",
    "\n",
    "# get the names of the folders that store images\n",
    "for file in os.listdir(store_path):\n",
    "    if os.path.isdir(os.path.join(store_path, file)):\n",
    "        date_folder.append(file)\n",
    "\n",
    "for i in range(1,3):\n",
    "    # get the name of the folders that store one of these cameras\n",
    "    camera_folder = os.listdir(os.path.join(store_path, date_folder[i+1]))\n",
    "\n",
    "    for camera_i in camera_folder:\n",
    "        video_path = os.path.join(store_path, date_folder[i+1], camera_i)\n",
    "        video_folder = os.listdir(video_path)\n",
    "        for video_id in video_folder:\n",
    "            image_path = os.path.join(video_path, video_id)\n",
    "            image_file = os.listdir(image_path)\n",
    "            result = pd.DataFrame(columns=('date','camera','video','image_fname',\n",
    "                                'active_whitecaps','active_whitecaps_fraction',\n",
    "                                'predict_image'))\n",
    "\n",
    "            for fname in image_file[:]:\n",
    "                if fname[0:2] =='._':\n",
    "                    os.remove(os.path.join(image_path, fname))\n",
    "                    image_file.remove(fname)\n",
    "                    \n",
    "            image_file.sort(key=lambda x:int(x[14:-4]))\n",
    "            \n",
    "\n",
    "            print(f'The code is working on {date_folder[i+1]}-{camera_i}-{video_id}!!!')\n",
    "            for fname in image_file:\n",
    "\n",
    "                path = os.path.join(image_path, fname)\n",
    "                img = cv2.imread(path)\n",
    "                \n",
    "                try:\n",
    "                    roi_up, roi_bottom, horizon, line, rho, theta = get_ROI(img)\n",
    "                except:\n",
    "                    result = result.append(pd.DataFrame({\n",
    "                    'date':[date_folder[i+1]],\n",
    "                    'camera':[camera_i],\n",
    "                    'video':[video_id],\n",
    "                    'image_fname':[fname],\n",
    "                    'active_whitecaps':[0],\n",
    "                    'active_whitecaps_fraction':[0],\n",
    "                    'predict_image':[0]\n",
    "                    }))\n",
    "                else:\n",
    "                    \n",
    "                    img = cv2.cvtColor(img, cv2.COLOR_BGR2GRAY)\n",
    "                    \n",
    "                    img_roi = img[roi_up: roi_bottom+1, 0:1920]\n",
    "                    img_roi_tensor = torch.from_numpy(img_roi / 255).float()\n",
    "                    img_roi_tensor = img_roi_tensor.unsqueeze(0)\n",
    "                    img_roi_tensor = img_roi_tensor.unsqueeze(0)\n",
    "                    unet_model.to(device)\n",
    "                    img_roi_tensor = img_roi_tensor.to(device)\n",
    "                    \n",
    "                    with torch.no_grad():\n",
    "                        output = unet_model(img_roi_tensor)\n",
    "                    output = output.squeeze(0)\n",
    "                    output = output.squeeze(0)\n",
    "                    \n",
    "                    # assign all large than 0.8 as 1 and less as 0\n",
    "                    output = output.cpu().numpy()\n",
    "                    output[output >= 0.8] = 1\n",
    "                    output[output < 0.8] = 0\n",
    "\n",
    "                    output_BGR = cv2.cvtColor(output, cv2.COLOR_GRAY2BGR)\n",
    "                    output_rectified = rectify(img,IntrinsicMatrix,H,incStab,rollStab,\n",
    "                                            aziStab,line,rho,theta,output)\n",
    "\n",
    "                    img_roi_rec = rectify(img,IntrinsicMatrix,H,incStab,rollStab,\n",
    "                                        aziStab,line,rho,theta,img_roi)\n",
    "                    area = img_roi_rec[img_roi_rec>0].size\n",
    "                    active_whitecaps = np.argwhere(output_rectified>0)\n",
    "                    active_whitecaps_area = output_rectified[output_rectified>0].size\n",
    "                    active_whitecaps_fraction = active_whitecaps_area / area\n",
    "                    result = result.append(pd.DataFrame({\n",
    "                        'date':[date_folder[i+1]],\n",
    "                        'camera':[camera_i],\n",
    "                        'video':[video_id],\n",
    "                        'image_fname':[fname],\n",
    "                        'active_whitecaps':[active_whitecaps],\n",
    "                        'active_whitecaps_fraction':[active_whitecaps_fraction],\n",
    "                        'predict_image':[output]\n",
    "                    }))\n",
    "            result = result.reset_index(drop=True)\n",
    "            if not os.path.exists(f\"E:/GoPro_1Hz_Unet_output/{date_folder[i+1]}/{camera_i}\"):\n",
    "                os.makedirs(f\"E:/GoPro_1Hz_Unet_output/{date_folder[i+1]}/{camera_i}\")\n",
    "            result.to_csv(f\"E:/GoPro_1Hz_Unet_output/{date_folder[i+1]}/{camera_i}/{video_id[0:-4]}_active.csv\")\n",
    "            "
   ]
  },
  {
   "cell_type": "markdown",
   "metadata": {},
   "source": [
    "# Processing Loop"
   ]
  },
  {
   "cell_type": "code",
   "execution_count": 14,
   "metadata": {},
   "outputs": [],
   "source": [
    "import os\n",
    "\n",
    "store_path = \"E:\\GoPro_1Hz\"\n",
    "date_folder = [] = []\n",
    "\n",
    "# get the names of the folders that store images\n",
    "for file in os.listdir(store_path):\n",
    "    if os.path.isdir(os.path.join(store_path, file)):\n",
    "        date_folder.append(file)\n",
    "\n",
    "for i in range(4):\n",
    "    # get the name of the folders that store one of these cameras\n",
    "    camera_folder = os.listdir(os.path.join(store_path, date_folder[i]))"
   ]
  },
  {
   "cell_type": "code",
   "execution_count": 23,
   "metadata": {},
   "outputs": [
    {
     "data": {
      "text/plain": [
       "['2020_3_4_GoPro', '2020_3_5_GoPro', '2020_3_6_GoPro', '2020_3_7_GoPro']"
      ]
     },
     "execution_count": 23,
     "metadata": {},
     "output_type": "execute_result"
    }
   ],
   "source": [
    "date_folder "
   ]
  },
  {
   "cell_type": "code",
   "execution_count": 27,
   "metadata": {},
   "outputs": [
    {
     "name": "stdout",
     "output_type": "stream",
     "text": [
      "2\n"
     ]
    }
   ],
   "source": [
    "for i in range(1):\n",
    "    i = i + 2\n",
    "    print(i)"
   ]
  },
  {
   "cell_type": "code",
   "execution_count": 17,
   "metadata": {},
   "outputs": [
    {
     "data": {
      "text/plain": [
       "['image_behind', 'image_left', 'image_right']"
      ]
     },
     "execution_count": 17,
     "metadata": {},
     "output_type": "execute_result"
    }
   ],
   "source": [
    "camera_folder"
   ]
  },
  {
   "cell_type": "code",
   "execution_count": 28,
   "metadata": {},
   "outputs": [
    {
     "name": "stdout",
     "output_type": "stream",
     "text": [
      "The code is working on 2020_3_6_GoPro-image_behind-GH010005.MP4!!!\n",
      "The code is working on 2020_3_6_GoPro-image_behind-GH010006.MP4!!!\n",
      "The code is working on 2020_3_6_GoPro-image_behind-GH010007.MP4!!!\n",
      "The code is working on 2020_3_6_GoPro-image_behind-GH010008.MP4!!!\n",
      "The code is working on 2020_3_6_GoPro-image_behind-GH010009.MP4!!!\n",
      "The code is working on 2020_3_6_GoPro-image_behind-GH010010.MP4!!!\n",
      "The code is working on 2020_3_6_GoPro-image_behind-GH020005.MP4!!!\n",
      "The code is working on 2020_3_6_GoPro-image_behind-GH020006.MP4!!!\n",
      "The code is working on 2020_3_6_GoPro-image_behind-GH020007.MP4!!!\n",
      "The code is working on 2020_3_6_GoPro-image_behind-GH020008.MP4!!!\n",
      "The code is working on 2020_3_6_GoPro-image_behind-GH020009.MP4!!!\n",
      "The code is working on 2020_3_6_GoPro-image_behind-GH020010.MP4!!!\n",
      "The code is working on 2020_3_6_GoPro-image_behind-GH030005.MP4!!!\n",
      "The code is working on 2020_3_6_GoPro-image_behind-GH030006.MP4!!!\n",
      "The code is working on 2020_3_6_GoPro-image_behind-GH030007.MP4!!!\n",
      "The code is working on 2020_3_6_GoPro-image_behind-GH030008.MP4!!!\n",
      "The code is working on 2020_3_6_GoPro-image_behind-GH030009.MP4!!!\n",
      "The code is working on 2020_3_6_GoPro-image_behind-GH030010.MP4!!!\n",
      "The code is working on 2020_3_6_GoPro-image_behind-GH040005.MP4!!!\n",
      "The code is working on 2020_3_6_GoPro-image_behind-GH040006.MP4!!!\n",
      "The code is working on 2020_3_6_GoPro-image_behind-GH040007.MP4!!!\n",
      "The code is working on 2020_3_6_GoPro-image_behind-GH040008.MP4!!!\n",
      "The code is working on 2020_3_6_GoPro-image_behind-GH040009.MP4!!!\n",
      "The code is working on 2020_3_6_GoPro-image_behind-GH040010.MP4!!!\n",
      "The code is working on 2020_3_6_GoPro-image_behind-GH050005.MP4!!!\n",
      "The code is working on 2020_3_6_GoPro-image_behind-GH050006.MP4!!!\n",
      "The code is working on 2020_3_6_GoPro-image_behind-GH050007.MP4!!!\n",
      "The code is working on 2020_3_6_GoPro-image_behind-GH050008.MP4!!!\n",
      "The code is working on 2020_3_6_GoPro-image_behind-GH050009.MP4!!!\n",
      "The code is working on 2020_3_6_GoPro-image_behind-GH050010.MP4!!!\n",
      "The code is working on 2020_3_6_GoPro-image_behind-GH060005.MP4!!!\n",
      "The code is working on 2020_3_6_GoPro-image_behind-GH060006.MP4!!!\n",
      "The code is working on 2020_3_6_GoPro-image_behind-GH060007.MP4!!!\n",
      "The code is working on 2020_3_6_GoPro-image_behind-GH060008.MP4!!!\n",
      "The code is working on 2020_3_6_GoPro-image_behind-GH060009.MP4!!!\n",
      "The code is working on 2020_3_6_GoPro-image_behind-GH060010.MP4!!!\n",
      "The code is working on 2020_3_6_GoPro-image_behind-GH070005.MP4!!!\n",
      "The code is working on 2020_3_6_GoPro-image_behind-GH070006.MP4!!!\n",
      "The code is working on 2020_3_6_GoPro-image_behind-GH070007.MP4!!!\n",
      "The code is working on 2020_3_6_GoPro-image_behind-GH070008.MP4!!!\n",
      "The code is working on 2020_3_6_GoPro-image_behind-GH070009.MP4!!!\n",
      "The code is working on 2020_3_6_GoPro-image_behind-GH070010.MP4!!!\n",
      "The code is working on 2020_3_6_GoPro-image_behind-GH080005.MP4!!!\n",
      "The code is working on 2020_3_6_GoPro-image_behind-GH080006.MP4!!!\n",
      "The code is working on 2020_3_6_GoPro-image_behind-GH080007.MP4!!!\n",
      "The code is working on 2020_3_6_GoPro-image_behind-GH080008.MP4!!!\n",
      "The code is working on 2020_3_6_GoPro-image_behind-GH080009.MP4!!!\n",
      "The code is working on 2020_3_6_GoPro-image_behind-GH080010.MP4!!!\n",
      "The code is working on 2020_3_6_GoPro-image_behind-GH090006.MP4!!!\n",
      "The code is working on 2020_3_6_GoPro-image_behind-GH090007.MP4!!!\n",
      "The code is working on 2020_3_6_GoPro-image_behind-GH090009.MP4!!!\n",
      "The code is working on 2020_3_6_GoPro-image_behind-GH090010.MP4!!!\n",
      "The code is working on 2020_3_6_GoPro-image_left-GH010044.MP4!!!\n",
      "The code is working on 2020_3_6_GoPro-image_left-GH010045.MP4!!!\n",
      "The code is working on 2020_3_6_GoPro-image_left-GH010046.MP4!!!\n",
      "The code is working on 2020_3_6_GoPro-image_left-GH010047.MP4!!!\n",
      "The code is working on 2020_3_6_GoPro-image_left-GH010048.MP4!!!\n",
      "The code is working on 2020_3_6_GoPro-image_left-GH010049.MP4!!!\n",
      "The code is working on 2020_3_6_GoPro-image_left-GH020044.MP4!!!\n",
      "The code is working on 2020_3_6_GoPro-image_left-GH020045.MP4!!!\n",
      "The code is working on 2020_3_6_GoPro-image_left-GH020046.MP4!!!\n",
      "The code is working on 2020_3_6_GoPro-image_left-GH020047.MP4!!!\n",
      "The code is working on 2020_3_6_GoPro-image_left-GH020048.MP4!!!\n",
      "The code is working on 2020_3_6_GoPro-image_left-GH020049.MP4!!!\n",
      "The code is working on 2020_3_6_GoPro-image_left-GH030044.MP4!!!\n",
      "The code is working on 2020_3_6_GoPro-image_left-GH030045.MP4!!!\n",
      "The code is working on 2020_3_6_GoPro-image_left-GH030046.MP4!!!\n",
      "The code is working on 2020_3_6_GoPro-image_left-GH030047.MP4!!!\n",
      "The code is working on 2020_3_6_GoPro-image_left-GH030048.MP4!!!\n",
      "The code is working on 2020_3_6_GoPro-image_left-GH030049.MP4!!!\n",
      "The code is working on 2020_3_6_GoPro-image_left-GH040044.MP4!!!\n",
      "The code is working on 2020_3_6_GoPro-image_left-GH040045.MP4!!!\n",
      "The code is working on 2020_3_6_GoPro-image_left-GH040046.MP4!!!\n",
      "The code is working on 2020_3_6_GoPro-image_left-GH040047.MP4!!!\n",
      "The code is working on 2020_3_6_GoPro-image_left-GH040048.MP4!!!\n",
      "The code is working on 2020_3_6_GoPro-image_left-GH040049.MP4!!!\n",
      "The code is working on 2020_3_6_GoPro-image_left-GH050044.MP4!!!\n",
      "The code is working on 2020_3_6_GoPro-image_left-GH050045.MP4!!!\n",
      "The code is working on 2020_3_6_GoPro-image_left-GH050046.MP4!!!\n",
      "The code is working on 2020_3_6_GoPro-image_left-GH050047.MP4!!!\n",
      "The code is working on 2020_3_6_GoPro-image_left-GH050048.MP4!!!\n",
      "The code is working on 2020_3_6_GoPro-image_left-GH050049.MP4!!!\n",
      "The code is working on 2020_3_6_GoPro-image_left-GH060044.MP4!!!\n",
      "The code is working on 2020_3_6_GoPro-image_left-GH060045.MP4!!!\n",
      "The code is working on 2020_3_6_GoPro-image_left-GH060046.MP4!!!\n",
      "The code is working on 2020_3_6_GoPro-image_left-GH060047.MP4!!!\n",
      "The code is working on 2020_3_6_GoPro-image_left-GH060048.MP4!!!\n",
      "The code is working on 2020_3_6_GoPro-image_left-GH060049.MP4!!!\n",
      "The code is working on 2020_3_6_GoPro-image_left-GH070044.MP4!!!\n",
      "The code is working on 2020_3_6_GoPro-image_left-GH070045.MP4!!!\n",
      "The code is working on 2020_3_6_GoPro-image_left-GH070046.MP4!!!\n",
      "The code is working on 2020_3_6_GoPro-image_left-GH070047.MP4!!!\n",
      "The code is working on 2020_3_6_GoPro-image_left-GH070048.MP4!!!\n",
      "The code is working on 2020_3_6_GoPro-image_left-GH070049.MP4!!!\n",
      "The code is working on 2020_3_6_GoPro-image_left-GH080044.MP4!!!\n",
      "The code is working on 2020_3_6_GoPro-image_left-GH080045.MP4!!!\n",
      "The code is working on 2020_3_6_GoPro-image_left-GH080046.MP4!!!\n",
      "The code is working on 2020_3_6_GoPro-image_left-GH080047.MP4!!!\n",
      "The code is working on 2020_3_6_GoPro-image_left-GH080048.MP4!!!\n",
      "The code is working on 2020_3_6_GoPro-image_left-GH080049.MP4!!!\n",
      "The code is working on 2020_3_6_GoPro-image_left-GH090045.MP4!!!\n",
      "The code is working on 2020_3_6_GoPro-image_left-GH090046.MP4!!!\n",
      "The code is working on 2020_3_6_GoPro-image_left-GH090047.MP4!!!\n",
      "The code is working on 2020_3_6_GoPro-image_left-GH090048.MP4!!!\n",
      "The code is working on 2020_3_6_GoPro-image_left-GH090049.MP4!!!\n",
      "The code is working on 2020_3_6_GoPro-image_left-GH100048.MP4!!!\n",
      "The code is working on 2020_3_6_GoPro-image_right-GH010011.MP4!!!\n",
      "The code is working on 2020_3_6_GoPro-image_right-GH010012.MP4!!!\n",
      "The code is working on 2020_3_6_GoPro-image_right-GH010013.MP4!!!\n",
      "The code is working on 2020_3_6_GoPro-image_right-GH010014.MP4!!!\n",
      "The code is working on 2020_3_6_GoPro-image_right-GH010015.MP4!!!\n",
      "The code is working on 2020_3_6_GoPro-image_right-GH010016.MP4!!!\n",
      "The code is working on 2020_3_6_GoPro-image_right-GH020011.MP4!!!\n",
      "The code is working on 2020_3_6_GoPro-image_right-GH020012.MP4!!!\n",
      "The code is working on 2020_3_6_GoPro-image_right-GH020013.MP4!!!\n",
      "The code is working on 2020_3_6_GoPro-image_right-GH020014.MP4!!!\n",
      "The code is working on 2020_3_6_GoPro-image_right-GH020015.MP4!!!\n",
      "The code is working on 2020_3_6_GoPro-image_right-GH020016.MP4!!!\n",
      "The code is working on 2020_3_6_GoPro-image_right-GH030011.MP4!!!\n",
      "The code is working on 2020_3_6_GoPro-image_right-GH030012.MP4!!!\n",
      "The code is working on 2020_3_6_GoPro-image_right-GH030013.MP4!!!\n",
      "The code is working on 2020_3_6_GoPro-image_right-GH030014.MP4!!!\n",
      "The code is working on 2020_3_6_GoPro-image_right-GH030015.MP4!!!\n",
      "The code is working on 2020_3_6_GoPro-image_right-GH030016.MP4!!!\n",
      "The code is working on 2020_3_6_GoPro-image_right-GH040011.MP4!!!\n",
      "The code is working on 2020_3_6_GoPro-image_right-GH040012.MP4!!!\n",
      "The code is working on 2020_3_6_GoPro-image_right-GH040013.MP4!!!\n",
      "The code is working on 2020_3_6_GoPro-image_right-GH040014.MP4!!!\n",
      "The code is working on 2020_3_6_GoPro-image_right-GH040015.MP4!!!\n",
      "The code is working on 2020_3_6_GoPro-image_right-GH040016.MP4!!!\n",
      "The code is working on 2020_3_6_GoPro-image_right-GH050011.MP4!!!\n",
      "The code is working on 2020_3_6_GoPro-image_right-GH050012.MP4!!!\n",
      "The code is working on 2020_3_6_GoPro-image_right-GH050013.MP4!!!\n",
      "The code is working on 2020_3_6_GoPro-image_right-GH050014.MP4!!!\n",
      "The code is working on 2020_3_6_GoPro-image_right-GH050015.MP4!!!\n",
      "The code is working on 2020_3_6_GoPro-image_right-GH050016.MP4!!!\n",
      "The code is working on 2020_3_6_GoPro-image_right-GH060011.MP4!!!\n",
      "The code is working on 2020_3_6_GoPro-image_right-GH060012.MP4!!!\n",
      "The code is working on 2020_3_6_GoPro-image_right-GH060013.MP4!!!\n",
      "The code is working on 2020_3_6_GoPro-image_right-GH060014.MP4!!!\n",
      "The code is working on 2020_3_6_GoPro-image_right-GH060015.MP4!!!\n",
      "The code is working on 2020_3_6_GoPro-image_right-GH060016.MP4!!!\n",
      "The code is working on 2020_3_6_GoPro-image_right-GH070011.MP4!!!\n",
      "The code is working on 2020_3_6_GoPro-image_right-GH070012.MP4!!!\n",
      "The code is working on 2020_3_6_GoPro-image_right-GH070013.MP4!!!\n",
      "The code is working on 2020_3_6_GoPro-image_right-GH070014.MP4!!!\n",
      "The code is working on 2020_3_6_GoPro-image_right-GH070015.MP4!!!\n",
      "The code is working on 2020_3_6_GoPro-image_right-GH070016.MP4!!!\n",
      "The code is working on 2020_3_6_GoPro-image_right-GH080011.MP4!!!\n",
      "The code is working on 2020_3_6_GoPro-image_right-GH080012.MP4!!!\n",
      "The code is working on 2020_3_6_GoPro-image_right-GH080013.MP4!!!\n",
      "The code is working on 2020_3_6_GoPro-image_right-GH080015.MP4!!!\n",
      "The code is working on 2020_3_6_GoPro-image_right-GH080016.MP4!!!\n",
      "The code is working on 2020_3_6_GoPro-image_right-GH090012.MP4!!!\n",
      "The code is working on 2020_3_6_GoPro-image_right-GH090013.MP4!!!\n",
      "The code is working on 2020_3_6_GoPro-image_right-GH090015.MP4!!!\n",
      "The code is working on 2020_3_6_GoPro-image_right-GH090016.MP4!!!\n"
     ]
    }
   ],
   "source": [
    "import os\n",
    "\n",
    "device = torch.device(\"cuda\" if torch.cuda.is_available() else \"cpu\")\n",
    "store_path = \"E:\\GoPro_1Hz\"\n",
    "date_folder = []\n",
    "\n",
    "# get the names of the folders that store images\n",
    "for file in os.listdir(store_path):\n",
    "    if os.path.isdir(os.path.join(store_path, file)):\n",
    "        date_folder.append(file)\n",
    "\n",
    "for i in range(1):\n",
    "    i = i + 2\n",
    "    # get the name of the folders that store one of these cameras\n",
    "    camera_folder = os.listdir(os.path.join(store_path, date_folder[i]))\n",
    "    \n",
    "\n",
    "    for camera_i in camera_folder:\n",
    "        video_path = os.path.join(store_path, date_folder[i], camera_i)\n",
    "        video_folder = os.listdir(video_path)\n",
    "        for video_id in video_folder:\n",
    "            image_path = os.path.join(video_path, video_id)\n",
    "            image_file = os.listdir(image_path)\n",
    "            result = pd.DataFrame(columns=('date','camera','video','image_fname',\n",
    "                                'active_whitecaps','active_whitecaps_fraction',\n",
    "                                'predict_image'))\n",
    "\n",
    "            for fname in image_file[:]:\n",
    "                if fname[0:2] =='._':\n",
    "                    os.remove(os.path.join(image_path, fname))\n",
    "                    image_file.remove(fname)\n",
    "                    \n",
    "            image_file.sort(key=lambda x:int(x[14:-4]))\n",
    "            \n",
    "\n",
    "            print(f'The code is working on {date_folder[i]}-{camera_i}-{video_id}!!!')\n",
    "            for fname in image_file:\n",
    "\n",
    "                path = os.path.join(image_path, fname)\n",
    "                img = cv2.imread(path)\n",
    "                \n",
    "                try:\n",
    "                    roi_up, roi_bottom, line, rho, theta = get_ROI(img)\n",
    "                except:\n",
    "                    result = result.append(pd.DataFrame({\n",
    "                    'date':[date_folder[i]],\n",
    "                    'camera':[camera_i],\n",
    "                    'video':[video_id],\n",
    "                    'image_fname':[fname],\n",
    "                    'active_whitecaps':[0],\n",
    "                    'active_whitecaps_fraction':[0],\n",
    "                    'predict_image':[0]\n",
    "                    }))\n",
    "                else:\n",
    "                    \n",
    "                    img = cv2.cvtColor(img, cv2.COLOR_BGR2GRAY)\n",
    "                    \n",
    "                    img_roi = img[roi_up: roi_bottom+1, 0:1920]\n",
    "                    img_roi_tensor = torch.from_numpy(img_roi / 255).float()\n",
    "                    img_roi_tensor = img_roi_tensor.unsqueeze(0)\n",
    "                    img_roi_tensor = img_roi_tensor.unsqueeze(0)\n",
    "                    unet_model.to(device)\n",
    "                    img_roi_tensor = img_roi_tensor.to(device)\n",
    "                    \n",
    "                    with torch.no_grad():\n",
    "                        output = unet_model(img_roi_tensor)\n",
    "                    output = output.squeeze(0)\n",
    "                    output = output.squeeze(0)\n",
    "                    \n",
    "                    # assign all large than 0.8 as 1 and less as 0\n",
    "                    output = output.cpu().numpy()\n",
    "                    output[output >= 0.8] = 1\n",
    "                    output[output < 0.8] = 0\n",
    "\n",
    "                    output_BGR = cv2.cvtColor(output, cv2.COLOR_GRAY2BGR)\n",
    "                    output_rectified = rectify(img,IntrinsicMatrix,H,incStab,rollStab,\n",
    "                                            aziStab,line,rho,theta,output)\n",
    "\n",
    "                    img_roi_rec = rectify(img,IntrinsicMatrix,H,incStab,rollStab,\n",
    "                                        aziStab,line,rho,theta,img_roi)\n",
    "                    area = img_roi_rec[img_roi_rec>0].size\n",
    "                    active_whitecaps = np.argwhere(output_rectified>0)\n",
    "                    active_whitecaps_area = output_rectified[output_rectified>0].size\n",
    "                    active_whitecaps_fraction = active_whitecaps_area / area\n",
    "                    result = result.append(pd.DataFrame({\n",
    "                        'date':[date_folder[i]],\n",
    "                        'camera':[camera_i],\n",
    "                        'video':[video_id],\n",
    "                        'image_fname':[fname],\n",
    "                        'active_whitecaps':[active_whitecaps],\n",
    "                        'active_whitecaps_fraction':[active_whitecaps_fraction],\n",
    "                        'predict_image':[output]\n",
    "                    }))\n",
    "            result = result.reset_index(drop=True)\n",
    "            if not os.path.exists(f\"E:/GoPro_1Hz_Unet_output/{date_folder[i]}/{camera_i}\"):\n",
    "                os.makedirs(f\"E:/GoPro_1Hz_Unet_output/{date_folder[i]}/{camera_i}\")\n",
    "            result.to_csv(f\"E:/GoPro_1Hz_Unet_output/{date_folder[i]}/{camera_i}/{video_id[0:-4]}_active.csv\")\n",
    "                "
   ]
  },
  {
   "cell_type": "code",
   "execution_count": null,
   "metadata": {},
   "outputs": [],
   "source": [
    "# 2020_3_6需要重新运行一下。"
   ]
  },
  {
   "cell_type": "code",
   "execution_count": 20,
   "metadata": {},
   "outputs": [
    {
     "data": {
      "text/plain": [
       "tensor([], device='cuda:0', size=(1, 1, 0, 1920))"
      ]
     },
     "execution_count": 20,
     "metadata": {},
     "output_type": "execute_result"
    }
   ],
   "source": [
    "img_roi_tensor"
   ]
  },
  {
   "cell_type": "code",
   "execution_count": 21,
   "metadata": {},
   "outputs": [
    {
     "data": {
      "text/plain": [
       "'GH090010.MP4'"
      ]
     },
     "execution_count": 21,
     "metadata": {},
     "output_type": "execute_result"
    }
   ],
   "source": [
    "video_id"
   ]
  },
  {
   "cell_type": "code",
   "execution_count": 22,
   "metadata": {},
   "outputs": [
    {
     "data": {
      "text/plain": [
       "'original_frame71.jpg'"
      ]
     },
     "execution_count": 22,
     "metadata": {},
     "output_type": "execute_result"
    }
   ],
   "source": [
    "fname"
   ]
  },
  {
   "cell_type": "code",
   "execution_count": null,
   "metadata": {},
   "outputs": [],
   "source": []
  }
 ],
 "metadata": {
  "kernelspec": {
   "display_name": "d2l",
   "language": "python",
   "name": "python3"
  },
  "language_info": {
   "codemirror_mode": {
    "name": "ipython",
    "version": 3
   },
   "file_extension": ".py",
   "mimetype": "text/x-python",
   "name": "python",
   "nbconvert_exporter": "python",
   "pygments_lexer": "ipython3",
   "version": "3.10.4"
  },
  "orig_nbformat": 4,
  "vscode": {
   "interpreter": {
    "hash": "6e3fb3b94af17b2336c49a5de82acaa44c3b8f6e324b719a96125783e256d8bd"
   }
  }
 },
 "nbformat": 4,
 "nbformat_minor": 2
}
